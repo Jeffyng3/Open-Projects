{
 "cells": [
  {
   "cell_type": "markdown",
   "metadata": {},
   "source": [
    "# Problem 1"
   ]
  },
  {
   "cell_type": "code",
   "execution_count": null,
   "metadata": {},
   "outputs": [],
   "source": [
    "# Enter your code here. Read input from STDIN. Print output to STDOUT\n",
    "## example input [160,40,20,300,50,80]\n",
    "\n",
    "shoppingcart = input()\n",
    "print(\"\\n\")\n",
    "shop_list = shoppingcart.split()\n",
    "print('Prices: ', shop_list)\n",
    "\n",
    "for i in range(len(shop_list)):\n",
    "    shop_list[i]=int(shop_list[i])\n",
    "    \n",
    "list_25 = []\n",
    "list_50 = []\n",
    "total_list = []\n",
    "\n",
    "for x in shop_list:\n",
    "    if x >= 100 and x<=200:\n",
    "        discount_25 = x - (x*0.25)\n",
    "        list_25.append(discount_25)\n",
    "    if x > 200 or x == 200:\n",
    "        discount_50 = x - (x*0.50)\n",
    "        list_50.append(discount_50)\n",
    "    if x < 100:\n",
    "        total_list.append(x)\n",
    "        \n",
    "total = list_25 + list_50 + total_list\n",
    "\n",
    "total_cart = sum(total)\n",
    "\n",
    "if total_cart >= 300:\n",
    "    final_total = total_cart - 50\n",
    "\n",
    "print(\"Your total is: $\", final_total)"
   ]
  },
  {
   "cell_type": "markdown",
   "metadata": {},
   "source": [
    "# Problem 2"
   ]
  },
  {
   "cell_type": "code",
   "execution_count": null,
   "metadata": {},
   "outputs": [],
   "source": [
    "# Enter your code here. Read input from STDIN. Print output to STDOUT\n",
    "##example input [1,7,2,10,20,4]\n",
    "\n",
    "number = input()\n",
    "num_list = number.split()\n",
    "print('Your input: ', num_list)\n",
    "\n",
    "for i in range(len(num_list)):\n",
    "    num_list[i] = int(num_list[i])\n",
    "\n",
    "num_list.sort()\n",
    "max_num = num_list[3:]\n",
    "min_num = num_list[:3]\n",
    "\n",
    "new_max = [i/2 for i in max_num]\n",
    "    \n",
    "final_list = min_num + new_max\n",
    "print(final_list)"
   ]
  }
 ],
 "metadata": {
  "kernelspec": {
   "display_name": "Python 3",
   "language": "python",
   "name": "python3"
  },
  "language_info": {
   "codemirror_mode": {
    "name": "ipython",
    "version": 3
   },
   "file_extension": ".py",
   "mimetype": "text/x-python",
   "name": "python",
   "nbconvert_exporter": "python",
   "pygments_lexer": "ipython3",
   "version": "3.8.5"
  }
 },
 "nbformat": 4,
 "nbformat_minor": 4
}
